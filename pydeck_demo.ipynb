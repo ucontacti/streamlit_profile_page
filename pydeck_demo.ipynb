{
 "cells": [
  {
   "cell_type": "code",
   "execution_count": 1,
   "metadata": {},
   "outputs": [],
   "source": [
    "import pydeck as pdk\n",
    "import pandas as pd"
   ]
  },
  {
   "cell_type": "code",
   "execution_count": 2,
   "metadata": {},
   "outputs": [],
   "source": [
    "data = pd.read_csv('~/Downloads/US_Accidents_Dec21_updated.csv')"
   ]
  },
  {
   "cell_type": "code",
   "execution_count": 3,
   "metadata": {},
   "outputs": [],
   "source": [
    "data = data.head(1000)"
   ]
  },
  {
   "cell_type": "code",
   "execution_count": 4,
   "metadata": {},
   "outputs": [],
   "source": [
    "view = pdk.data_utils.compute_view(data[[\"Start_Lng\", \"Start_Lat\"]])\n",
    "view.pitch = 75\n",
    "view.bearing = 60"
   ]
  },
  {
   "cell_type": "code",
   "execution_count": 5,
   "metadata": {},
   "outputs": [],
   "source": [
    "column_layer = pdk.Layer(\n",
    "    \"ColumnLayer\",\n",
    "    data=data,\n",
    "    get_position=[\"Start_Lng\", \"Start_Lat\"],\n",
    "    get_elevation=\"Severity\",\n",
    "    elevation_scale=100,\n",
    "    radius=50,\n",
    "    get_fill_color=[200, 200, 200],\n",
    "    pickable=True,\n",
    "    auto_highlight=True,\n",
    ")"
   ]
  },
  {
   "cell_type": "code",
   "execution_count": 6,
   "metadata": {},
   "outputs": [
    {
     "data": {
      "application/vnd.jupyter.widget-view+json": {
       "model_id": "689fb171dc974625a661ab610c536e95",
       "version_major": 2,
       "version_minor": 0
      },
      "text/plain": [
       "DeckGLWidget(carto_key=None, custom_libraries=[], google_maps_key=None, json_input='{\\n  \"initialViewState\": {…"
      ]
     },
     "execution_count": 6,
     "metadata": {},
     "output_type": "execute_result"
    }
   ],
   "source": [
    "r = pdk.Deck(\n",
    "    column_layer,\n",
    "    initial_view_state=view,\n",
    "    map_provider=\"mapbox\",\n",
    "    map_style=pdk.map_styles.SATELLITE,\n",
    ")\n",
    "r.show()"
   ]
  },
  {
   "cell_type": "code",
   "execution_count": null,
   "metadata": {},
   "outputs": [],
   "source": []
  }
 ],
 "metadata": {
  "kernelspec": {
   "display_name": "Python 3.8.13 ('minimal_ds')",
   "language": "python",
   "name": "python3"
  },
  "language_info": {
   "codemirror_mode": {
    "name": "ipython",
    "version": 3
   },
   "file_extension": ".py",
   "mimetype": "text/x-python",
   "name": "python",
   "nbconvert_exporter": "python",
   "pygments_lexer": "ipython3",
   "version": "3.8.13"
  },
  "orig_nbformat": 4,
  "vscode": {
   "interpreter": {
    "hash": "4cb0ae753b5d661b55b24c9697833d78e18d2d2409669606bbc4f773b5a3fac2"
   }
  }
 },
 "nbformat": 4,
 "nbformat_minor": 2
}
